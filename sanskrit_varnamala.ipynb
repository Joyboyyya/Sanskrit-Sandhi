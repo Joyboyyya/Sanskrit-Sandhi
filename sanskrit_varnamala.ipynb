{
  "nbformat": 4,
  "nbformat_minor": 0,
  "metadata": {
    "colab": {
      "provenance": [],
      "toc_visible": true,
      "authorship_tag": "ABX9TyMXbWbLr9GECYQdCZ5ngPFP",
      "include_colab_link": true
    },
    "kernelspec": {
      "name": "python3",
      "display_name": "Python 3"
    },
    "language_info": {
      "name": "python"
    }
  },
  "cells": [
    {
      "cell_type": "markdown",
      "metadata": {
        "id": "view-in-github",
        "colab_type": "text"
      },
      "source": [
        "<a href=\"https://colab.research.google.com/github/Joyboyyya/Sanskrit-Sandhi/blob/main/sanskrit_varnamala.ipynb\" target=\"_parent\"><img src=\"https://colab.research.google.com/assets/colab-badge.svg\" alt=\"Open In Colab\"/></a>"
      ]
    },
    {
      "cell_type": "markdown",
      "metadata": {
        "id": "c8-kL472ZXNh"
      },
      "source": [
        "\n",
        "# ***Varnamaala***"
      ]
    },
    {
      "cell_type": "code",
      "metadata": {
        "id": "WKFdeeOAY0R_"
      },
      "source": [
        "  ######## keep this file in the same level of hierarchy as of that of your current working file in order to import####\n",
        "\n",
        "  ####### vowels more specifically svaras in sanskrit##########\n",
        "s_vowels = { \"a\":'\\u0905', \"aa\":'\\u0906', \"i\":'\\u0907', \"ii\":'\\u0908', \"u\":'\\u0909', \"uu\":'\\u090a',\n",
        "              \"rru\":'\\u090b', \"rruu\":'\\u0960', \"lruu\":'\\u090c', \"e\":'\\u090f', \"ai\":'\\u0910', \"o\":'\\u0913',\n",
        "              \"au\":'\\u0914', \"am\":'\\u0905'+'\\u0902', \"aha\":'\\u0905'+'\\u0903'}\n",
        "\n",
        "  ####### Svaras are split into several classes ############### (not important)###########\n",
        "hra_sva_svara = {\"a\":'\\u0905',\"i\":'\\u0907',\"u\":'\\u0909',\"rru\":'\\u090b',\"lruu\":'\\u090c'}\n",
        "dheerga_svara = { \"aa\":'\\u0906',\"ii\":'\\u0908',\"uu\":'\\u090a',\"rruu\":'\\u0960',\"e\":'\\u090f', \"ai\":'\\u0910', \"o\":'\\u0913',\n",
        "              \"au\":'\\u0914' }\n",
        "ayoga_vaha = {\"am\":'\\u0902', \"aha\":'\\u0903'}\n",
        "svara = {**hra_sva_svara,**dheerga_svara,**ayoga_vaha}\n",
        "\n",
        "  ############# Consonants which are vyanjanas in sanskrit ##################\n",
        "s_consonants = {\"ka\":'\\u0915', \"kha\":'\\u0916', \"ga\":'\\u0917', \"gha\":'\\u0918', \"nga\":'\\u0919',\n",
        "                  \"ca\":'\\u091a', \"cha\":'\\u091b', \"ja\":'\\u091c', \"jha\":'\\u091d', \"nya\":'\\u091e',\n",
        "                  \"tta\":'\\u091f', \"ttha\":'\\u0920', \"dda\":'\\u0921', \"ddha\":'\\u0922', \"nna\":'\\u0923',\n",
        "                  \"ta\":'\\u0924', \"tha\":'\\u0925', \"da\":'\\u0926', \"dha\":'\\u0927', \"na\":'\\u0928',\n",
        "                  \"pa\":'\\u092a', \"pha\":'\\u092b', \"ba\":'\\u092c', \"bha\":'\\u092d', \"ma\":'\\u092e',\n",
        "                  \"ya\":'\\u092f', \"ra\":'\\u0930', \"la\":'\\u0932', \"va\":'\\u0935', \"sha\":'\\u0936', \"ssa\":'\\u0937', \"sa\":'\\u0938', \"ha\":'\\u0939', \"lla\":'\\u0933'\n",
        "                  }\n",
        "\n",
        "  ########## Consonants are split into several classes (not important) ##################\n",
        "karkasha_vyanjana = {\"ka\":'\\u0915', \"kha\":'\\u0916',\"ca\":'\\u091a', \"cha\":'\\u091b',\n",
        "                      \"tta\":'\\u091f', \"ttha\":'\\u0920',\"ta\":'\\u0924', \"tha\":'\\u0925',\n",
        "                      \"pa\":'\\u092a', \"pha\":'\\u092b',\"sha\":'\\u0936', \"ssa\":'\\u0937', \"sa\":'\\u0938'}\n",
        "mrudu_vyanjana = {\"ga\":'\\u0917', \"gha\":'\\u0918', \"nga\":'\\u0919',\"ja\":'\\u091c', \"jha\":'\\u091d', \"nya\":'\\u091e',\n",
        "                    \"dda\":'\\u0921', \"ddha\":'\\u0922', \"nna\":'\\u0923',\"da\":'\\u0926', \"dha\":'\\u0927', \"na\":'\\u0928',\n",
        "                    \"ba\":'\\u092c', \"bha\":'\\u092d', \"ma\":'\\u092e',\"ya\":'\\u092f', \"ra\":'\\u0930', \"la\":'\\u0932', \"va\":'\\u0935',\"ha\":'\\u0939'}\n",
        "vargiya_vyanjana = {\n",
        "    \"ka\":'\\u0915', \"kha\":'\\u0916', \"ga\":'\\u0917', \"gha\":'\\u0918', \"nga\":'\\u0919',\n",
        "                  \"ca\":'\\u091a', \"cha\":'\\u091b', \"ja\":'\\u091c', \"jha\":'\\u091d', \"nya\":'\\u091e',\n",
        "                  \"tta\":'\\u091f', \"ttha\":'\\u0920', \"dda\":'\\u0921', \"ddha\":'\\u0922', \"nna\":'\\u0923',\n",
        "                  \"ta\":'\\u0924', \"tha\":'\\u0925', \"da\":'\\u0926', \"dha\":'\\u0927', \"na\":'\\u0928',\n",
        "                  \"pa\":'\\u092a', \"pha\":'\\u092b', \"ba\":'\\u092c', \"bha\":'\\u092d', \"ma\":'\\u092e',\n",
        "}\n",
        "avargiya_vyanjana = {\"ya\":'\\u092f', \"ra\":'\\u0930', \"la\":'\\u0932', \"va\":'\\u0935', \"sha\":'\\u0936', \"ssa\":'\\u0937', \"sa\":'\\u0938', \"ha\":'\\u0939' }\n",
        "anu_naasika = {\"nga\":'\\u0919',\"nya\":'\\u091e',\"nna\":'\\u0923',\"na\":'\\u0928',\"ma\":'\\u092e'}\n",
        "alpa_praana_vyanjana = {\"ka\":'\\u0915',\"ca\":'\\u091a',\"tta\":'\\u091f',\"ta\":'\\u0924',\"pa\":'\\u092a',\n",
        "                        \"ga\":'\\u0917',\"ja\":'\\u091c',\"dda\":'\\u0921',\"da\":'\\u0926',\"ba\":'\\u092c',\n",
        "                        \"nga\":'\\u0919',\"nya\":'\\u091e',\"nna\":'\\u0923',\"na\":'\\u0928',\"ma\":'\\u092e',\n",
        "                        \"ya\":'\\u092f', \"ra\":'\\u0930', \"la\":'\\u0932', \"va\":'\\u0935'}\n",
        "maha_praana_vyanjana  = {\"kha\":'\\u0916',\"cha\":'\\u091b',\"ttha\":'\\u0920',\"tha\":'\\u0925',\"pha\":'\\u092b',\n",
        "                          \"gha\":'\\u0918',\"jha\":'\\u091d',\"ddha\":'\\u0922',\"dha\":'\\u0927',\"bha\":'\\u092d',\n",
        "                          \"sha\":'\\u0936', \"ssa\":'\\u0937', \"sa\":'\\u0938', \"ha\":'\\u0939'}\n",
        "\n",
        "\n",
        "\n",
        "\n",
        "\n"
      ],
      "execution_count": null,
      "outputs": []
    },
    {
      "cell_type": "code",
      "metadata": {
        "id": "Sx-9eIvMeeuy"
      },
      "source": [],
      "execution_count": null,
      "outputs": []
    },
    {
      "cell_type": "markdown",
      "metadata": {
        "id": "o2vkojQQZFn5"
      },
      "source": [
        "# ***Kaagunithaakshara & Samyukthaakhara***"
      ]
    },
    {
      "cell_type": "code",
      "metadata": {
        "id": "sF_7gB8IsCRd"
      },
      "source": [
        "######### The signs aka chinnae which is used to join multiple svaras and vyanjanas ##############\n",
        "chinnae = {'अ':\"\",'आ':\"\\u093e\",'इ':\"\\u093f\",'ई':\"\\u0940\",'उ':\"\\u0941\",'ऊ':\"\\u0942\",\n",
        "            'ऋ':\"\\u0943\",'ॠ':\"\\u0944\",'ऌ':\"\\u0962\",'ए':\"\\u0947\",'ऐ':\"\\u0948\",'ऐ':\"\\u0948\",\n",
        "            'ओ':\"\\u094b\", 'औ':\"\\u094c\",'अं':\"\\u0902\",'अः':\"\\u0903\"}\n",
        "\n",
        "\n",
        "\n",
        "######kaagunitha function produces Kaagunitha for the vyanjana input only###########\n",
        "###### give input as 'ka' or 'ca' or 'क' or 'च' etc ##################\n",
        "########## vyanjana + svara = kaagunitha akshara #############\n",
        "def kaagunitha(x):\n",
        "  if (x in s_consonants):\n",
        "    for i in s_vowels.values():\n",
        "      print(s_consonants[x]+chinnae[i], end = \" \")\n",
        "  elif (x in s_consonants.values()):\n",
        "    for i in s_vowels.values():\n",
        "      print(x+chinnae[i], end = \" \")\n",
        "  else: print(\"Please enter only sanskrit consonants\")\n",
        "\n",
        "\n",
        "#### to subtract half svara from the resulting string############\n",
        "def sub_half_svara(x):\n",
        "  x = x[:-1]\n",
        "  return x\n",
        "\n",
        "###### splits any samyukthaakshara to vyanjanas and svaras into a list###########\n",
        "def split_samyuktha_akshara(x):\n",
        "  x = list(x)\n",
        "  if (x[-1] not in chinnae.values() and x[-1] != '\\u094d' and x[-1] not in svara.values()):\n",
        "    x.append(\"\")\n",
        "  return x\n",
        "\n",
        "\n",
        "#### helps to pronounce the sanskrit word in english ##########\n",
        "########## vyanjana + vyanjana = samyuktha varna ######\n",
        "def pronounce_samyuktha_akshara(x):\n",
        "  var2 = split_samyuktha_akshara(x)\n",
        "  key_list = list(s_consonants.keys());\n",
        "  value_list = list(s_consonants.values());\n",
        "  res = \"\"\n",
        "  for i in var2:\n",
        "    if (i != '\\u094d' and i not in chinnae.values()):\n",
        "      res += (key_list[value_list.index(i)])\n",
        "    elif (i in chinnae):\n",
        "      res = sub_half_svara(res)\n",
        "    elif (i == '\\u094d'):\n",
        "      res = sub_half_svara(res)\n",
        "  return res"
      ],
      "execution_count": null,
      "outputs": []
    },
    {
      "cell_type": "code",
      "metadata": {
        "colab": {
          "base_uri": "https://localhost:8080/"
        },
        "id": "1woeSgcwAgSL",
        "outputId": "8b43a071-e550-45dd-b509-6ee7a2e43ee1"
      },
      "source": [],
      "execution_count": null,
      "outputs": [
        {
          "output_type": "stream",
          "text": [
            "['अ']\n"
          ],
          "name": "stdout"
        }
      ]
    },
    {
      "cell_type": "markdown",
      "metadata": {
        "id": "3c0V64w9MueH"
      },
      "source": [
        "# ***Sanskrit Sandhis***"
      ]
    },
    {
      "cell_type": "markdown",
      "metadata": {
        "id": "kUF1fZ7G8A8e"
      },
      "source": [
        "# ***Ach Sandhi(Svara Sandhi)***"
      ]
    },
    {
      "cell_type": "code",
      "metadata": {
        "id": "mQEO3QtKMtTq"
      },
      "source": [
        "def savarnna_deergha_sandhi(x,y):\n",
        "    a = split_samyuktha_akshara(x)\n",
        "    b = split_samyuktha_akshara(y)\n",
        "\n",
        "    if (a[-1] in {'अ','','आ','ा'} and b[0] in {'अ','','आ','ा'}):\n",
        "      if ((len(b) == 1) and (len(a) == 1)):\n",
        "        a.pop()\n",
        "        b[0] = 'आ'\n",
        "      else:\n",
        "        a.pop()\n",
        "        b[0] = 'ा'\n",
        "    elif (a[-1] in {'इ','ि','ई','ी'} and b[0] in {'इ','ि','ई','ी'}):\n",
        "      if ((len(b) == 1) and (len(a) == 1)):\n",
        "        a.pop()\n",
        "        b[0] = 'ई'\n",
        "      else:\n",
        "        a.pop()\n",
        "        b[0] = 'ी'\n",
        "    elif (a[-1] in {'उ','ु','ऊ','ू'} and b[0] in {'उ','ु','ऊ','ू'}):\n",
        "      if ((len(b) == 1) and (len(a) == 1)):\n",
        "        a.pop()\n",
        "        b[0] = 'ऊ'\n",
        "      else:\n",
        "        a.pop()\n",
        "        b[0] = 'ू'\n",
        "    elif (a[-1] in {'ऋ','ृ','ॠ','ॄ'} and b[0] in {'ऋ','ृ','ॠ','ॄ'}):\n",
        "      if ((len(b) == 1) and (len(a) == 1)):\n",
        "        a.pop()\n",
        "        b[0] = 'ॠ'\n",
        "      else:\n",
        "        a.pop()\n",
        "        b[0] = 'ॄ'\n",
        "\n",
        "\n",
        "    c = \"\"\n",
        "    c = c.join(a+b)\n",
        "    return c\n",
        "\n"
      ],
      "execution_count": null,
      "outputs": []
    },
    {
      "cell_type": "code",
      "metadata": {
        "colab": {
          "base_uri": "https://localhost:8080/",
          "height": 36
        },
        "id": "xXpMkEgdAkjr",
        "outputId": "aa8142e4-ba54-46e7-d54f-44df23a399bb"
      },
      "source": [
        "pronounce_samyuktha_akshara('दैत्या')"
      ],
      "execution_count": null,
      "outputs": [
        {
          "output_type": "execute_result",
          "data": {
            "application/vnd.google.colaboratory.intrinsic+json": {
              "type": "string"
            },
            "text/plain": [
              "'datya'"
            ]
          },
          "metadata": {
            "tags": []
          },
          "execution_count": 5
        }
      ]
    },
    {
      "cell_type": "code",
      "metadata": {
        "colab": {
          "base_uri": "https://localhost:8080/",
          "height": 36
        },
        "id": "MVUtIi3qOqZj",
        "outputId": "d1561a33-e39d-46bd-b385-d14e559b0e4a"
      },
      "source": [
        "savarnna_deergha_sandhi('दैत्य','अ')"
      ],
      "execution_count": null,
      "outputs": [
        {
          "output_type": "execute_result",
          "data": {
            "application/vnd.google.colaboratory.intrinsic+json": {
              "type": "string"
            },
            "text/plain": [
              "'दैत्या'"
            ]
          },
          "metadata": {
            "tags": []
          },
          "execution_count": 6
        }
      ]
    },
    {
      "cell_type": "code",
      "metadata": {
        "id": "hF8czJjvSQBs"
      },
      "source": [
        "def gunna_sandhi(x,y):\n",
        "    a = split_samyuktha_akshara(x)\n",
        "    b = split_samyuktha_akshara(y)\n",
        "\n",
        "    if (a[-1] in {'अ','','आ','ा'} and b[0] in {'इ','ि','ई','ी'}):\n",
        "      if ((len(b) == 1) and (len(a) == 1)):\n",
        "        a.pop()\n",
        "        b[0] = 'ए'\n",
        "      else:\n",
        "        a.pop()\n",
        "        b[0] = 'े'\n",
        "    elif (a[-1] in {'अ','','आ','ा'} and b[0] in {'उ','ु','ऊ','ू'}):\n",
        "      if ((len(b) == 1) and (len(a) == 1)):\n",
        "        a.pop()\n",
        "        b[0] = 'ओ'\n",
        "      else:\n",
        "        a.pop()\n",
        "        b[0] = 'ो'\n",
        "    elif (a[-1] in {'अ','','आ','ा'} and b[0] in {'ऋ','ृ','ॠ','ॄ'}):\n",
        "      if ((len(b) == 1) and (len(a) == 1)):\n",
        "        a.pop()\n",
        "        b[0] = 'र'+'\\u094d'\n",
        "      else:\n",
        "        a.pop()\n",
        "        b[0] = 'र'+'\\u094d'\n",
        "\n",
        "\n",
        "    c = \"\"\n",
        "    c = c.join(a+b)\n",
        "    return c\n",
        "\n"
      ],
      "execution_count": null,
      "outputs": []
    },
    {
      "cell_type": "code",
      "metadata": {
        "colab": {
          "base_uri": "https://localhost:8080/"
        },
        "id": "_ennILd9lA_6",
        "outputId": "13b0e4b5-cf78-44a6-c350-8b9396a0cd00"
      },
      "source": [
        "print(split_samyuktha_akshara('अ'+'र'+'\\u094d'))"
      ],
      "execution_count": null,
      "outputs": [
        {
          "output_type": "stream",
          "text": [
            "['अ', 'र', '्']\n"
          ],
          "name": "stdout"
        }
      ]
    },
    {
      "cell_type": "code",
      "metadata": {
        "colab": {
          "base_uri": "https://localhost:8080/"
        },
        "id": "nf5tuujVlHBD",
        "outputId": "78bbfd82-e6cf-49e1-b7d9-0e4dab98f269"
      },
      "source": [
        "print(gunna_sandhi('अ','इ'))"
      ],
      "execution_count": null,
      "outputs": [
        {
          "output_type": "stream",
          "text": [
            "ए\n"
          ],
          "name": "stdout"
        }
      ]
    },
    {
      "cell_type": "code",
      "metadata": {
        "id": "pSISntJ2m0R1"
      },
      "source": [
        "def vriddhi_sandhi(x,y):\n",
        "    a = split_samyuktha_akshara(x)\n",
        "    b = split_samyuktha_akshara(y)\n",
        "\n",
        "    if (a[-1] in {'अ','','आ','ा'} and b[0] in {'ए','े','ऐ','ै'}):\n",
        "      if ((len(b) == 1) and (len(a) == 1)):\n",
        "        a.pop()\n",
        "        b[0] = 'ऐ'\n",
        "      else:\n",
        "        a.pop()\n",
        "        b[0] = 'ै'\n",
        "    elif (a[-1] in {'अ','','आ','ा'} and b[0] in {'ओ','ो','औ','ौ'}):\n",
        "      if ((len(b) == 1) and (len(a) == 1)):\n",
        "        a.pop()\n",
        "        b[0] = 'औ'\n",
        "      else:\n",
        "        a.pop()\n",
        "        b[0] = 'ौ'\n",
        "\n",
        "\n",
        "    c = \"\"\n",
        "    c = c.join(a+b)\n",
        "    return c\n",
        "\n"
      ],
      "execution_count": null,
      "outputs": []
    },
    {
      "cell_type": "code",
      "metadata": {
        "colab": {
          "base_uri": "https://localhost:8080/"
        },
        "id": "2mUGX62fMdUA",
        "outputId": "b46cd829-268a-4e44-d242-6dcd24a651c4"
      },
      "source": [
        "print(vriddhi_sandhi('अ','औ'))"
      ],
      "execution_count": null,
      "outputs": [
        {
          "output_type": "stream",
          "text": [
            "औ\n"
          ],
          "name": "stdout"
        }
      ]
    },
    {
      "cell_type": "code",
      "metadata": {
        "id": "RyStFEy8MxU-"
      },
      "source": [
        "def poorva_roopa_sandhi(x,y):\n",
        "    a = split_samyuktha_akshara(x)\n",
        "    b = split_samyuktha_akshara(y)\n",
        "\n",
        "    if (a[-1] in {'ए','े'} and b[0] in {'अ',''}):\n",
        "      if ((len(b) == 1) or (len(a) == 1)):\n",
        "\n",
        "        b[0] = 'S'\n",
        "      else:\n",
        "\n",
        "        b[0] = 'S'\n",
        "    elif (a[-1] in {'ओ','ो'} and b[0] in {'अ',''}):\n",
        "      if ((len(b) == 1) or (len(a) == 1)):\n",
        "\n",
        "        b[0] = 'S'\n",
        "      else:\n",
        "\n",
        "        b[0] = 'S'\n",
        "\n",
        "\n",
        "    c = \"\"\n",
        "    c = c.join(a+b)\n",
        "    return c\n",
        "\n"
      ],
      "execution_count": null,
      "outputs": []
    },
    {
      "cell_type": "code",
      "metadata": {
        "colab": {
          "base_uri": "https://localhost:8080/"
        },
        "id": "6UrRGhBoRktz",
        "outputId": "db36764b-0499-4f05-a7f4-566fad2b270b"
      },
      "source": [
        "print(poorva_roopa_sandhi('ए','अ'))"
      ],
      "execution_count": null,
      "outputs": [
        {
          "output_type": "stream",
          "text": [
            "एS\n"
          ],
          "name": "stdout"
        }
      ]
    },
    {
      "cell_type": "code",
      "metadata": {
        "id": "XA5KBdG2Ryix"
      },
      "source": [
        "def yann_helper(z):\n",
        "  z.union({ 'ं', 'ः'})\n",
        "  y= (list(svara.values()) )\n",
        "  for i in z:\n",
        "    if i in y:\n",
        "      y.remove(i)\n",
        "  return y\n",
        "\n",
        "def yann_sandhi(x,y):\n",
        "    a = split_samyuktha_akshara(x)\n",
        "    b = split_samyuktha_akshara(y)\n",
        "\n",
        "    if (a[-1] in {'इ','ि','ई','ी'} and b[0] in yann_helper({'इ','ि','ई','ी'}) ):\n",
        "      if ((len(b) == 1) or (len(a) == 1)):\n",
        "        a.pop()\n",
        "        a.append('य')\n",
        "        b[0] = chinnae[b[0]]\n",
        "      else:\n",
        "        a.pop()\n",
        "        a.append('\\u094d'+'य')\n",
        "        b[0] = chinnae[b[0]]\n",
        "    elif (a[-1] in {'उ','ु','ऊ','ू'} and b[0] in yann_helper({'उ','ु','ऊ','ू'}) ):\n",
        "      if ((len(b) == 1) or (len(a) == 1)):\n",
        "        a.pop()\n",
        "        a.append('व')\n",
        "        b[0] = chinnae[b[0]]\n",
        "      else:\n",
        "        a.pop()\n",
        "        a.append('\\u094d'+'व')\n",
        "        b[0] = chinnae[b[0]]\n",
        "    elif (a[-1] in {'ऋ','ृ','ॠ','ॄ'} and b[0] in yann_helper({'ऋ','ृ','ॠ','ॄ'}) ):\n",
        "      if ((len(b) == 1) or (len(a) == 1)):\n",
        "        a.pop()\n",
        "        a.append('र')\n",
        "        b[0] = chinnae[b[0]]\n",
        "      else:\n",
        "        a.pop()\n",
        "        a.append('\\u094d'+'र')\n",
        "        b[0] = chinnae[b[0]]\n",
        "######## fault in lrru, computer is not treating it as separate char but as a samyuktha varna la + rru = lrru ######\n",
        "    elif (a[-1] in {'ऌ','ॢ'} and b[0] in yann_helper({'ऌ','ॢ'}) ):\n",
        "      if ((len(b) == 1) or (len(a) == 1)):\n",
        "        a = ['ल']\n",
        "        b[0] = chinnae[b[0]]\n",
        "      else:\n",
        "        a = ['ल']\n",
        "        print(a,b)\n",
        "        b[0] = chinnae[b[0]]\n",
        "\n",
        "\n",
        "    c = \"\"\n",
        "    c = c.join(a+b)\n",
        "    return c\n"
      ],
      "execution_count": null,
      "outputs": []
    },
    {
      "cell_type": "code",
      "metadata": {
        "colab": {
          "base_uri": "https://localhost:8080/"
        },
        "id": "9CdsFqe9UFOo",
        "outputId": "995ddeaf-2cf9-41d7-abf7-d088daa5e542"
      },
      "source": [
        "z= (list(svara.values()) )\n",
        "for i in {'इ','ि','ई','ी', 'ं', 'ः'}:\n",
        "  if i in z:\n",
        "    z.remove(i)\n",
        "print(z)\n"
      ],
      "execution_count": null,
      "outputs": [
        {
          "output_type": "stream",
          "text": [
            "['अ', 'उ', 'ऋ', 'ऌ', 'आ', 'ऊ', 'ॠ', 'ए', 'ऐ', 'ओ', 'औ']\n"
          ],
          "name": "stdout"
        }
      ]
    },
    {
      "cell_type": "code",
      "metadata": {
        "colab": {
          "base_uri": "https://localhost:8080/"
        },
        "id": "hzbONa_zUgu8",
        "outputId": "c26f62c4-de8f-48ed-8b63-c51fccb02e95"
      },
      "source": [
        "{'a','b'}.union({'c'})"
      ],
      "execution_count": null,
      "outputs": [
        {
          "output_type": "execute_result",
          "data": {
            "text/plain": [
              "{'a', 'b', 'c'}"
            ]
          },
          "metadata": {
            "tags": []
          },
          "execution_count": 16
        }
      ]
    },
    {
      "cell_type": "code",
      "metadata": {
        "colab": {
          "base_uri": "https://localhost:8080/",
          "height": 36
        },
        "id": "fWpz6FzdU21G",
        "outputId": "050efd14-8b95-4b2a-f466-e26aec94e607"
      },
      "source": [
        "s_consonants['va']"
      ],
      "execution_count": null,
      "outputs": [
        {
          "output_type": "execute_result",
          "data": {
            "application/vnd.google.colaboratory.intrinsic+json": {
              "type": "string"
            },
            "text/plain": [
              "'व'"
            ]
          },
          "metadata": {
            "tags": []
          },
          "execution_count": 17
        }
      ]
    },
    {
      "cell_type": "code",
      "metadata": {
        "colab": {
          "base_uri": "https://localhost:8080/"
        },
        "id": "WAAwLxZWbGMs",
        "outputId": "43e94a7c-e0ce-4e9e-dba2-3dc42132e297"
      },
      "source": [
        "print(yann_sandhi('इ','उ'))"
      ],
      "execution_count": null,
      "outputs": [
        {
          "output_type": "stream",
          "text": [
            "यु\n"
          ],
          "name": "stdout"
        }
      ]
    },
    {
      "cell_type": "code",
      "metadata": {
        "id": "R4lolF39eQqc"
      },
      "source": [
        "def yaantha_vaanthaadesha_sandhi(x,y):\n",
        "    a = split_samyuktha_akshara(x)\n",
        "    b = split_samyuktha_akshara(y)\n",
        "\n",
        "    if (a[-1] in {'ए','े'} and b[0] in svara.values() ):\n",
        "      if ((len(b) == 1) and (len(a) == 1)):\n",
        "        a.pop()\n",
        "        a.append('अ'+'य')\n",
        "        b[0] = chinnae[b[0]]\n",
        "      else:\n",
        "        a.pop()\n",
        "        a.append('य')\n",
        "        b[0] = chinnae[b[0]]\n",
        "\n",
        "    elif (a[-1] in {'ऐ','ै'} and b[0] in svara.values() ):\n",
        "      if ((len(b) == 1) and (len(a) == 1)):\n",
        "        a.pop()\n",
        "        a.append('आ'+'य')\n",
        "        b[0] = chinnae[b[0]]\n",
        "      else:\n",
        "        a.pop()\n",
        "        a.append('ा'+'य')\n",
        "        b[0] = chinnae[b[0]]\n",
        "    elif (a[-1] in {'ओ','ो'} and b[0] in svara.values() ):\n",
        "      if ((len(b) == 1) and (len(a) == 1)):\n",
        "        a.pop()\n",
        "        a.append('अ'+'व')\n",
        "        b[0] = chinnae[b[0]]\n",
        "      else:\n",
        "        a.pop()\n",
        "        a.append('व')\n",
        "        b[0] = chinnae[b[0]]\n",
        "######## fault in lrru, computer is not treating it as separate char but as a samyuktha varna la + rru = lrru ######\n",
        "    elif (a[-1] in {'औ','ौ'} and b[0] in svara.values() ):\n",
        "      if ((len(b) == 1) and (len(a) == 1)):\n",
        "        a.pop()\n",
        "        a.append('आ'+'व')\n",
        "        b[0] = chinnae[b[0]]\n",
        "      else:\n",
        "        a.pop()\n",
        "        a.append('ा'+'व')\n",
        "        b[0] = chinnae[b[0]]\n",
        "\n",
        "    c = \"\"\n",
        "    c = c.join(a+b)\n",
        "    return c\n",
        "\n"
      ],
      "execution_count": null,
      "outputs": []
    },
    {
      "cell_type": "code",
      "metadata": {
        "colab": {
          "base_uri": "https://localhost:8080/"
        },
        "id": "hdU5GZ7dutHK",
        "outputId": "88ce8324-b8c8-46e1-fc4c-e026b71fe508"
      },
      "source": [
        "print(yaantha_vaanthaadesha_sandhi('औ','ए'))"
      ],
      "execution_count": null,
      "outputs": [
        {
          "output_type": "stream",
          "text": [
            "आवे\n"
          ],
          "name": "stdout"
        }
      ]
    },
    {
      "cell_type": "code",
      "metadata": {
        "colab": {
          "base_uri": "https://localhost:8080/"
        },
        "id": "fcJHz1-4x957",
        "outputId": "e23f3edc-6aa2-48c9-bb4f-c076dc34b26e"
      },
      "source": [
        "print('ह'+'र'+'े')"
      ],
      "execution_count": null,
      "outputs": [
        {
          "output_type": "stream",
          "text": [
            "हरे\n"
          ],
          "name": "stdout"
        }
      ]
    },
    {
      "cell_type": "markdown",
      "metadata": {
        "id": "mgQFAusY76PD"
      },
      "source": [
        "# ***Hal Sandhi(Vyanjana Sandhi)***"
      ]
    },
    {
      "cell_type": "code",
      "metadata": {
        "id": "xS4Ov1LkyITU"
      },
      "source": [
        "def schutva_sandhi(x,y):\n",
        "  a = split_samyuktha_akshara(x)\n",
        "  b = split_samyuktha_akshara(y)\n",
        "\n",
        "  if (a[-2] in {'स','त','थ','द','ध','न'} and a[-1] in {'्',''} and b[0] in {'श', 'च', 'छ', 'ज', 'झ', 'ञ'} ):\n",
        "    if (a[-2] == 'स'):\n",
        "      a[-2] = 'श'\n",
        "      a[-1] = '्'\n",
        "    elif (a[-2] == 'त'):\n",
        "      a[-2] = 'च'\n",
        "      a[-1] = '्'\n",
        "    elif (a[-2] == 'थ'):\n",
        "      a[-2] = 'छ'\n",
        "      a[-1] = '्'\n",
        "    elif (a[-2] == 'द'):\n",
        "      a[-2] = 'ज'\n",
        "      a[-1] = '्'\n",
        "    elif (a[-2] == 'ध'):\n",
        "      a[-2] = 'झ'\n",
        "      a[-1] = '्'\n",
        "    elif (a[-2] == 'न'):\n",
        "      a[-2] = 'ञ'\n",
        "      a[-1] = '्'\n",
        "\n",
        "  c = \"\"\n",
        "  c = c.join(a+b)\n",
        "  return c\n"
      ],
      "execution_count": null,
      "outputs": []
    },
    {
      "cell_type": "code",
      "metadata": {
        "colab": {
          "base_uri": "https://localhost:8080/"
        },
        "id": "kcu6n1LfVMbb",
        "outputId": "2c1607c4-26fc-4b7e-844a-0d7ddea73093"
      },
      "source": [
        "print(schutva_sandhi('उद्','ज्वलः'))"
      ],
      "execution_count": null,
      "outputs": [
        {
          "output_type": "stream",
          "text": [
            "उज्ज्वलः\n"
          ],
          "name": "stdout"
        }
      ]
    },
    {
      "cell_type": "code",
      "metadata": {
        "id": "I3HoisGFVZi4"
      },
      "source": [
        "def shtutva_sandhi(x,y):\n",
        "  a = split_samyuktha_akshara(x)\n",
        "  b = split_samyuktha_akshara(y)\n",
        "\n",
        "  if (a[-2] in {'स', 'त', 'थ', 'द', 'ध', 'न'} and a[-1] in {'्',''} and b[0] in {'ष', 'ट', 'ठ', 'ड', 'ढ', 'ण'} ):\n",
        "    if (a[-2] == 'स'):\n",
        "      a[-2] = 'ष'\n",
        "      a[-1] = '्'\n",
        "    elif (a[-2] == 'त'):\n",
        "      a[-2] = 'ट'\n",
        "      a[-1] = '्'\n",
        "    elif (a[-2] == 'थ'):\n",
        "      a[-2] = 'ठ'\n",
        "      a[-1] = '्'\n",
        "    elif (a[-2] == 'द'):\n",
        "      a[-2] = 'ड'\n",
        "      a[-1] = '्'\n",
        "    elif (a[-2] == 'ध'):\n",
        "      a[-2] = 'द'\n",
        "      a[-1] = '्'\n",
        "    elif (a[-2] == 'न'):\n",
        "      a[-2] = 'ण'\n",
        "      a[-1] = '्'\n",
        "\n",
        "\n",
        "\n",
        "  c = \"\"\n",
        "  c = c.join(a+b)\n",
        "  return c"
      ],
      "execution_count": null,
      "outputs": []
    },
    {
      "cell_type": "code",
      "metadata": {
        "colab": {
          "base_uri": "https://localhost:8080/"
        },
        "id": "dN7DXkKKYDrh",
        "outputId": "cbe17706-b624-4d73-b424-e6b0974d6858"
      },
      "source": [
        "print(shtutva_sandhi('पेष्','ता'))"
      ],
      "execution_count": null,
      "outputs": [
        {
          "output_type": "stream",
          "text": [
            "पेष्ता\n"
          ],
          "name": "stdout"
        }
      ]
    },
    {
      "cell_type": "code",
      "metadata": {
        "id": "CymcfUrwYNqx"
      },
      "source": [
        "def jashtva_sandhi(x,y):\n",
        "  a = split_samyuktha_akshara(x)\n",
        "  b = split_samyuktha_akshara(y)\n",
        "\n",
        "  if (a[-2] in {'क','ख','ग','घ','च','छ','ज','झ','ट','ठ','ड','ढ','त','थ','द','ध','प','फ','ब','भ','ष'} and a[-1] in {'्',''} and (b[0] in {'अ','इ','उ','ऋ','ऌ','आ','ई','ऊ','ॠ','ए','ऐ','ओ','औ'} or b[0] in mrudu_vyanjana.values()) ):\n",
        "    if (a[-2] in {'क','ख','ग','घ'}):\n",
        "      a[-2] = 'ग'\n",
        "      a[-1] = '्'\n",
        "\n",
        "    elif (a[-2] in {'च','छ','ज','झ'}):\n",
        "      a[-2] = 'ज'\n",
        "      a[-1] = '्'\n",
        "    elif (a[-2] in {'ट','ठ','ड','ढ'}):\n",
        "      a[-2] = 'ड'\n",
        "      a[-1] = '्'\n",
        "    elif (a[-2] in {'त','थ','द','ध'}):\n",
        "      a[-2] = 'द'\n",
        "      a[-1] = '्'\n",
        "    elif (a[-2] in {'प','फ','ब','भ'}):\n",
        "      a[-2] = 'ब'\n",
        "      a[-1] = '्'\n",
        "    elif (a[-2] == 'ष'):\n",
        "      a[-2] = 'ड'\n",
        "      a[-1] = '्'\n",
        "\n",
        "  if (b[0] in chinnae):\n",
        "      b[0] = chinnae[str(b[0])]\n",
        "      a.pop()\n",
        "\n",
        "\n",
        "\n",
        "  c = \"\"\n",
        "  c = c.join(a+b)\n",
        "  return c"
      ],
      "execution_count": null,
      "outputs": []
    },
    {
      "cell_type": "code",
      "metadata": {
        "colab": {
          "base_uri": "https://localhost:8080/"
        },
        "id": "iXHvDFfTemgS",
        "outputId": "4bf57504-a8f0-4580-86ab-67e6abd86f39"
      },
      "source": [
        "for i in svara.values():\n",
        "  print(i, end=\" \")"
      ],
      "execution_count": null,
      "outputs": [
        {
          "output_type": "stream",
          "text": [
            "अ इ उ ऋ ऌ आ ई ऊ ॠ ए ऐ ओ औ ं ः "
          ],
          "name": "stdout"
        }
      ]
    },
    {
      "cell_type": "code",
      "metadata": {
        "colab": {
          "base_uri": "https://localhost:8080/"
        },
        "id": "BMakAL30euR5",
        "outputId": "c5de43f9-1b46-4bfa-b943-0237dbe48a8a"
      },
      "source": [
        "print(jashtva_sandhi('दिक','गजः'))"
      ],
      "execution_count": null,
      "outputs": [
        {
          "output_type": "stream",
          "text": [
            "दिग्गजः\n"
          ],
          "name": "stdout"
        }
      ]
    },
    {
      "cell_type": "code",
      "metadata": {
        "id": "CGuR1VKBk0gP"
      },
      "source": [
        "def anunaasika_sandhi(x,y):\n",
        "  a = split_samyuktha_akshara(x)\n",
        "  b = split_samyuktha_akshara(y)\n",
        "\n",
        "  if (a[-2] in {'क','ख','ग','घ','च','छ','ज','झ','ट','ठ','ड','ढ','त','थ','द','ध','प','फ','ब','भ','ष'} and a[-1] in {'्',''} and b[0] in anu_naasika.values() ):\n",
        "    if (a[-2] in {'क','ख','ग','घ'}):\n",
        "      a[-2] = 'ङ'\n",
        "      a[-1] = '्'\n",
        "\n",
        "    elif (a[-2] in {'च','छ','ज','झ'}):\n",
        "      a[-2] = 'ञ'\n",
        "      a[-1] = '्'\n",
        "    elif (a[-2] in {'ट','ठ','ड','ढ'}):\n",
        "      a[-2] = 'ण'\n",
        "      a[-1] = '्'\n",
        "    elif (a[-2] in {'त','थ','द','ध'}):\n",
        "      a[-2] = 'न'\n",
        "      a[-1] = '्'\n",
        "    elif (a[-2] in {'प','फ','ब','भ'}):\n",
        "      a[-2] = 'म'\n",
        "      a[-1] = '्'\n",
        "\n",
        "  c = \"\"\n",
        "  c = c.join(a+b)\n",
        "  return c"
      ],
      "execution_count": null,
      "outputs": []
    },
    {
      "cell_type": "code",
      "metadata": {
        "colab": {
          "base_uri": "https://localhost:8080/"
        },
        "id": "O5t_B5EjO0Ep",
        "outputId": "cbb55ea4-b93b-45fc-d0a1-2afd1eb278ea"
      },
      "source": [
        "print(anu_naasika)"
      ],
      "execution_count": null,
      "outputs": [
        {
          "output_type": "stream",
          "text": [
            "{'nga': 'ङ', 'nya': 'ञ', 'nna': 'ण', 'na': 'न', 'ma': 'म'}\n"
          ],
          "name": "stdout"
        }
      ]
    },
    {
      "cell_type": "code",
      "metadata": {
        "colab": {
          "base_uri": "https://localhost:8080/"
        },
        "id": "mdfBIcosO2KQ",
        "outputId": "e82d4d89-096f-45a8-ef99-07a59f3bfdad"
      },
      "source": [
        "print(anunaasika_sandhi('षट्','मुख'))"
      ],
      "execution_count": null,
      "outputs": [
        {
          "output_type": "stream",
          "text": [
            "षण्मुख\n"
          ],
          "name": "stdout"
        }
      ]
    },
    {
      "cell_type": "code",
      "metadata": {
        "id": "dhtP-h7vPvyQ"
      },
      "source": [
        "############ put this first then anunaasika sandhi ######(priority)\n",
        "def anusvaara_sandhi(x,y):\n",
        "  a = split_samyuktha_akshara(x)\n",
        "  b = split_samyuktha_akshara(y)\n",
        "\n",
        "  if (a[-2] in {'म'} and a[-1] in {'्',''} and b[0] in s_consonants.values() ):\n",
        "    a.pop()\n",
        "    a[-1] = 'ं '\n",
        "\n",
        "  c = \"\"\n",
        "  c = c.join(a+b)\n",
        "  return c\n"
      ],
      "execution_count": null,
      "outputs": []
    },
    {
      "cell_type": "code",
      "metadata": {
        "colab": {
          "base_uri": "https://localhost:8080/"
        },
        "id": "6yJ2dYnOUbB0",
        "outputId": "024180f4-2d7b-4bb7-f469-c60cfc440c11"
      },
      "source": [
        "print(anusvaara_sandhi('गृहम्','वन्दे'))"
      ],
      "execution_count": null,
      "outputs": [
        {
          "output_type": "stream",
          "text": [
            "गृहं वन्दे\n"
          ],
          "name": "stdout"
        }
      ]
    },
    {
      "cell_type": "code",
      "metadata": {
        "id": "X6HK4iUiUhxv"
      },
      "source": [
        "def parasavarna_sandhi(x,y):\n",
        "  a = split_samyuktha_akshara(x)\n",
        "  b = split_samyuktha_akshara(y)\n",
        "\n",
        "  if ( (a[-1] in {'ं'} or (a[-1] == 'ु' and a[-2] == 'र' and a[-3] == '्' and a[-4] == 'त') ) and b[0] in vargiya_vyanjana.values() ):\n",
        "\n",
        "    if (a[-1] == 'ु' and a[-2] == 'र' and a[-3] == '्' and a[-4] == 'त'):\n",
        "      if (b[0] in {'क','ख','ग','घ'}):\n",
        "        a.append('ङ्')\n",
        "\n",
        "      elif (b[0] in {'च','छ','ज','झ'}):\n",
        "        a.append('ञ्')\n",
        "\n",
        "      elif (b[0] in {'ट','ठ','ड','ढ'}):\n",
        "        a.append('ण्')\n",
        "\n",
        "      elif (b[0] in {'त','थ','द','ध'}):\n",
        "        a.append('न्')\n",
        "\n",
        "      elif (b[0] in {'प','फ','ब','भ'}):\n",
        "        a.append('म्')\n",
        "\n",
        "    elif (b[0] in {'क','ख','ग','घ'}):\n",
        "      a[-1] = 'ङ्'\n",
        "\n",
        "    elif (b[0] in {'च','छ','ज','झ'}):\n",
        "\n",
        "      a[-1] = 'ञ्'\n",
        "    elif (b[0] in {'ट','ठ','ड','ढ'}):\n",
        "\n",
        "      a[-1] = 'ण्'\n",
        "    elif (b[0] in {'त','थ','द','ध'}):\n",
        "\n",
        "      a[-1] = 'न्'\n",
        "    elif (b[0] in {'प','फ','ब','भ'}):\n",
        "\n",
        "      a[-1] = 'म्'\n",
        "    elif (b[0] in {'प','फ','ब','भ'}):\n",
        "\n",
        "      a[-1] = 'म्'\n",
        "\n",
        "\n",
        "\n",
        "\n",
        "  c = \"\"\n",
        "  c = c.join(a+b)\n",
        "  return c"
      ],
      "execution_count": null,
      "outputs": []
    },
    {
      "cell_type": "code",
      "metadata": {
        "colab": {
          "base_uri": "https://localhost:8080/"
        },
        "id": "EIin_b83ZnRl",
        "outputId": "e769d06c-b93a-4c0a-c2c7-eb694fd4e14b"
      },
      "source": [
        "print(parasavarna_sandhi('सं','पृक्तौ'))"
      ],
      "execution_count": null,
      "outputs": [
        {
          "output_type": "stream",
          "text": [
            "सम्पृक्तौ\n"
          ],
          "name": "stdout"
        }
      ]
    },
    {
      "cell_type": "code",
      "metadata": {
        "colab": {
          "base_uri": "https://localhost:8080/"
        },
        "id": "SAMbrFx7Z-9D",
        "outputId": "3968a3cf-bad1-4195-9def-d8bd1ede778a"
      },
      "source": [
        "split_samyuktha_akshara('त्रु')"
      ],
      "execution_count": null,
      "outputs": [
        {
          "output_type": "execute_result",
          "data": {
            "text/plain": [
              "['त', '्', 'र', 'ु']"
            ]
          },
          "metadata": {
            "tags": []
          },
          "execution_count": 36
        }
      ]
    },
    {
      "cell_type": "code",
      "metadata": {
        "id": "ndUg46MfcaFx"
      },
      "source": [
        "def cartva_sandhi(x,y):\n",
        "  a = split_samyuktha_akshara(x)\n",
        "  b = split_samyuktha_akshara(y)\n",
        "\n",
        "  if (a[-2] in {'क','ख','ग','घ','च','छ','ज','झ','ट','ठ','ड','ढ','त','थ','द','ध','प','फ','ब','भ','ष'} and a[-1] in {'्',''} and (b[0] in karkasha_vyanjana.values()) ):\n",
        "    if (a[-2] in {'क','ख','ग','घ'}):\n",
        "      a[-2] = 'क'\n",
        "      a[-1] = '्'\n",
        "\n",
        "    elif (a[-2] in {'च','छ','ज','झ'}):\n",
        "      a[-2] = 'च'\n",
        "      a[-1] = '्'\n",
        "    elif (a[-2] in {'ट','ठ','ड','ढ'}):\n",
        "      a[-2] = 'ट'\n",
        "      a[-1] = '्'\n",
        "    elif (a[-2] in {'त','थ','द','ध'}):\n",
        "      a[-2] = 'त'\n",
        "      a[-1] = '्'\n",
        "    elif (a[-2] in {'प','फ','ब','भ'}):\n",
        "      a[-2] = 'प'\n",
        "      a[-1] = '्'\n",
        "\n",
        "\n",
        "  c = \"\"\n",
        "  c = c.join(a+b)\n",
        "  return c"
      ],
      "execution_count": null,
      "outputs": []
    },
    {
      "cell_type": "code",
      "metadata": {
        "colab": {
          "base_uri": "https://localhost:8080/"
        },
        "id": "4tNPQlCQn1JA",
        "outputId": "5285ad77-eadb-4e92-d158-148fd99e1209"
      },
      "source": [
        "print(cartva_sandhi('ककुभ्','प्रान्तः'))"
      ],
      "execution_count": null,
      "outputs": [
        {
          "output_type": "stream",
          "text": [
            "ककुप्प्रान्तः\n"
          ],
          "name": "stdout"
        }
      ]
    },
    {
      "cell_type": "code",
      "metadata": {
        "id": "YB6EudAUoaGi"
      },
      "source": [
        "def chatva_sandhi(x,y):\n",
        "  a = split_samyuktha_akshara(x)\n",
        "  b = split_samyuktha_akshara(y)\n",
        "\n",
        "  if b[1] not in chinnae.values() and b[1] != '्' :\n",
        "    b.insert(1,'')\n",
        "\n",
        "  if (a[-2] in {'क','च','ट','त','प'} and a[-1] in {'्',''} and b[0] in {'श'} and (b[2] in {'अ','इ','उ','ऋ','ऌ','आ','ई','ऊ','ॠ','ए','ऐ','ओ','औ','य','र','ल','व','म','न'} or b[0] in mrudu_vyanjana.values()) ):\n",
        "    b[0] = 'छ'\n",
        "\n",
        "  c = \"\"\n",
        "  c = c.join(a+b)\n",
        "  return c"
      ],
      "execution_count": null,
      "outputs": []
    },
    {
      "cell_type": "code",
      "metadata": {
        "colab": {
          "base_uri": "https://localhost:8080/"
        },
        "id": "MYEneV544DNw",
        "outputId": "c988d501-0388-480d-bd7d-ffe668862cf3"
      },
      "source": [
        "split_samyuktha_akshara('शरः')"
      ],
      "execution_count": null,
      "outputs": [
        {
          "output_type": "execute_result",
          "data": {
            "text/plain": [
              "['श', 'र', 'ः']"
            ]
          },
          "metadata": {
            "tags": []
          },
          "execution_count": 40
        }
      ]
    },
    {
      "cell_type": "code",
      "metadata": {
        "colab": {
          "base_uri": "https://localhost:8080/"
        },
        "id": "oFv0UNS44gEE",
        "outputId": "0fc9ac3a-e8f9-4b50-9225-03547b1fdc1f"
      },
      "source": [
        "print(chatva_sandhi('तच्','श्रः'))"
      ],
      "execution_count": null,
      "outputs": [
        {
          "output_type": "stream",
          "text": [
            "तच्छ्रः\n"
          ],
          "name": "stdout"
        }
      ]
    },
    {
      "cell_type": "code",
      "metadata": {
        "colab": {
          "base_uri": "https://localhost:8080/"
        },
        "id": "gtODLpEO4tj7",
        "outputId": "33e7084a-df75-4bd4-8b1b-947906130fa8"
      },
      "source": [
        "print('श'+'्'+'र'+'ः')"
      ],
      "execution_count": null,
      "outputs": [
        {
          "output_type": "stream",
          "text": [
            "श्रः\n"
          ],
          "name": "stdout"
        }
      ]
    },
    {
      "cell_type": "code",
      "metadata": {
        "id": "4mxNBfBO6Pqn"
      },
      "source": [
        "def poorva_savarna_sandhi(x,y):\n",
        "  a = split_samyuktha_akshara(x)\n",
        "  b = split_samyuktha_akshara(y)\n",
        "\n",
        "  if (a[-2] in {'क','ख','ग','घ','च','छ','ज','झ','ट','ठ','ड','ढ','त','थ','द','ध','प','फ','ब','भ','ष'} and a[-1] in {'्',''} and (b[0] == 'ह') ):\n",
        "    if (a[-2] in {'क','ख','ग','घ'}):\n",
        "      a[-2] = 'ग'\n",
        "      b[0] = 'घ'\n",
        "\n",
        "    elif (a[-2] in {'च','छ','ज','झ'}):\n",
        "      a[-2] = 'ज'\n",
        "      b[0] = 'झ'\n",
        "    elif (a[-2] in {'ट','ठ','ड','ढ'}):\n",
        "      a[-2] = 'ड'\n",
        "      b[0] = 'ढ'\n",
        "    elif (a[-2] in {'त','थ','द','ध'}):\n",
        "      a[-2] = 'द'\n",
        "      b[0] = 'ध'\n",
        "    elif (a[-2] in {'प','फ','ब','भ'}):\n",
        "      a[-2] = 'ब'\n",
        "      b[0] = 'भ'\n",
        "\n",
        "################ future implementation for upasarga ud followed by sta or stha ###################\n",
        "##### need to fix bcz ud upsarga may not end with da like ut is a ud upasarga###########################################################\n",
        "  if (a[-3] == 'उ' and a[-2] == 'द' and a[-1] == '्' and b[0] == 'स' and b[1] == '्' and b[2] in {'त','थ'} ):\n",
        "    b[0] = 'थ'\n",
        "\n",
        "\n",
        "\n",
        "\n",
        "  c = \"\"\n",
        "  c = c.join(a+b)\n",
        "  return c"
      ],
      "execution_count": null,
      "outputs": []
    },
    {
      "cell_type": "code",
      "metadata": {
        "colab": {
          "base_uri": "https://localhost:8080/",
          "height": 36
        },
        "id": "ORlrHsNK9wEx",
        "outputId": "c3c77d22-5348-493e-8d62-17c7900e6590"
      },
      "source": [
        "s_consonants['sa']"
      ],
      "execution_count": null,
      "outputs": [
        {
          "output_type": "execute_result",
          "data": {
            "application/vnd.google.colaboratory.intrinsic+json": {
              "type": "string"
            },
            "text/plain": [
              "'स'"
            ]
          },
          "metadata": {
            "tags": []
          },
          "execution_count": 44
        }
      ]
    },
    {
      "cell_type": "code",
      "metadata": {
        "colab": {
          "base_uri": "https://localhost:8080/"
        },
        "id": "t6r7Ui2t9x6n",
        "outputId": "1c3dd3a1-6dfa-454a-87e2-910f36c8e3b2"
      },
      "source": [
        "print(poorva_savarna_sandhi('त'+'प'+'्','हित'))"
      ],
      "execution_count": null,
      "outputs": [
        {
          "output_type": "stream",
          "text": [
            "तब्भित\n"
          ],
          "name": "stdout"
        }
      ]
    },
    {
      "cell_type": "code",
      "metadata": {
        "id": "5PVQ_HpU-9bf"
      },
      "source": [
        "def ngamudaagama_sandhi(x,y):\n",
        "  a = split_samyuktha_akshara(x)\n",
        "  b = split_samyuktha_akshara(y)\n",
        "\n",
        "  if ( a[-2] not in chinnae.values()):\n",
        "    a.insert(-2,'')\n",
        "  print(a)\n",
        "  temp = {'अ':\"\",'इ':\"\\u093f\",'उ':\"\\u0941\", 'ऋ':\"\\u0943\",'ऌ':\"\\u0962\" }\n",
        "\n",
        "  if( a[-3] in temp.values() and a[-2] in {'ङ','ण','न'} and a[-1] == '्'  and b[0] in {'अ','इ','उ','ऋ','ऌ','आ','ई','ऊ','ॠ','ए','ऐ','ओ','औ'}):\n",
        "    if (a[-2] == 'ङ'):\n",
        "      a.append('ङ')\n",
        "      b[0] = chinnae[b[0]]\n",
        "    elif (a[-2] == 'ण'):\n",
        "      a.append('ण')\n",
        "      b[0] = chinnae[b[0]]\n",
        "    elif (a[-2] == 'न'):\n",
        "      a.append('न')\n",
        "      b[0] = chinnae[b[0]]\n",
        "\n",
        "  c = \"\"\n",
        "  c = c.join(a+b)\n",
        "  return c"
      ],
      "execution_count": null,
      "outputs": []
    },
    {
      "cell_type": "code",
      "metadata": {
        "colab": {
          "base_uri": "https://localhost:8080/"
        },
        "id": "V1aSbScseoA0",
        "outputId": "1cd15303-704b-4120-936a-0e5a64e1b752"
      },
      "source": [
        "print(ngamudaagama_sandhi('पचन्','आस्ति'))"
      ],
      "execution_count": null,
      "outputs": [
        {
          "output_type": "stream",
          "text": [
            "['प', 'च', '', 'न', '्']\n",
            "पचन्नास्ति\n"
          ],
          "name": "stdout"
        }
      ]
    },
    {
      "cell_type": "code",
      "metadata": {
        "colab": {
          "base_uri": "https://localhost:8080/"
        },
        "id": "6oliYdUwe11Z",
        "outputId": "169c1c43-fc3c-4edd-b9f8-3179b2bd5a8f"
      },
      "source": [
        "print('आ'+'स'+'्'+'त'+'ि')"
      ],
      "execution_count": null,
      "outputs": [
        {
          "output_type": "stream",
          "text": [
            "आस्ति\n"
          ],
          "name": "stdout"
        }
      ]
    },
    {
      "cell_type": "code",
      "metadata": {
        "colab": {
          "base_uri": "https://localhost:8080/",
          "height": 36
        },
        "id": "73LTQepYe2rz",
        "outputId": "ca4c0ef2-b863-4082-bf72-7eaf16d754ca"
      },
      "source": [
        "s_consonants['sa']"
      ],
      "execution_count": null,
      "outputs": [
        {
          "output_type": "execute_result",
          "data": {
            "application/vnd.google.colaboratory.intrinsic+json": {
              "type": "string"
            },
            "text/plain": [
              "'स'"
            ]
          },
          "metadata": {
            "tags": []
          },
          "execution_count": 49
        }
      ]
    },
    {
      "cell_type": "code",
      "metadata": {
        "id": "kISnLGSwhPbs"
      },
      "source": [
        "def tugaagama_sandhi(x,y):\n",
        "  a = split_samyuktha_akshara(x)\n",
        "  b = split_samyuktha_akshara(y)\n",
        "  c = ''\n",
        "  temp = {'अ':\"\",'आ':\"\\u093e\",'इ':\"\\u093f\",'ई':\"\\u0940\",'उ':\"\\u0941\",'ऊ':\"\\u0942\",\n",
        "            'ऋ':\"\\u0943\",'ॠ':\"\\u0944\",'ऌ':\"\\u0962\",'ए':\"\\u0947\",'ऐ':\"\\u0948\",'ऐ':\"\\u0948\",\n",
        "            'ओ':\"\\u094b\", 'औ':\"\\u094c\"}\n",
        "  if (a[-1] in temp.values() and b[0] == 'छ'):\n",
        "    a += ['त','्']\n",
        "    d = ''.join(a)\n",
        "    e = ''.join(b)\n",
        "    c = schutva_sandhi(d,e)\n",
        "\n",
        "\n",
        "  return c"
      ],
      "execution_count": null,
      "outputs": []
    },
    {
      "cell_type": "code",
      "metadata": {
        "colab": {
          "base_uri": "https://localhost:8080/"
        },
        "id": "vgJBz2BByKYM",
        "outputId": "6a4c3914-3856-4065-f4a2-ffc1f9c91c84"
      },
      "source": [
        "print('छ'+'न'+'्'+'द'+'ः')"
      ],
      "execution_count": null,
      "outputs": [
        {
          "output_type": "stream",
          "text": [
            "छन्दः\n"
          ],
          "name": "stdout"
        }
      ]
    },
    {
      "cell_type": "code",
      "metadata": {
        "colab": {
          "base_uri": "https://localhost:8080/"
        },
        "id": "yTpz5va7yTe7",
        "outputId": "2fa46f94-602f-4468-df21-cf269d784f4f"
      },
      "source": [
        "print(s_consonants)"
      ],
      "execution_count": null,
      "outputs": [
        {
          "output_type": "stream",
          "text": [
            "{'ka': 'क', 'kha': 'ख', 'ga': 'ग', 'gha': 'घ', 'nga': 'ङ', 'ca': 'च', 'cha': 'छ', 'ja': 'ज', 'jha': 'झ', 'nya': 'ञ', 'tta': 'ट', 'ttha': 'ठ', 'dda': 'ड', 'ddha': 'ढ', 'nna': 'ण', 'ta': 'त', 'tha': 'थ', 'da': 'द', 'dha': 'ध', 'na': 'न', 'pa': 'प', 'pha': 'फ', 'ba': 'ब', 'bha': 'भ', 'ma': 'म', 'ya': 'य', 'ra': 'र', 'la': 'ल', 'va': 'व', 'sha': 'श', 'ssa': 'ष', 'sa': 'स', 'ha': 'ह', 'lla': 'ळ'}\n"
          ],
          "name": "stdout"
        }
      ]
    },
    {
      "cell_type": "code",
      "metadata": {
        "colab": {
          "base_uri": "https://localhost:8080/"
        },
        "id": "yPvLitMSzidv",
        "outputId": "672082d0-bcee-4f90-fa22-8b0a12f81297"
      },
      "source": [
        "print(tugaagama_sandhi('हरिणी','छन्दः'))"
      ],
      "execution_count": null,
      "outputs": [
        {
          "output_type": "stream",
          "text": [
            "हरिणीच्छन्दः\n"
          ],
          "name": "stdout"
        }
      ]
    },
    {
      "cell_type": "code",
      "metadata": {
        "id": "ircSi0yz0g5j"
      },
      "source": [
        "def satva_sandhi(x,y):\n",
        "  a = split_samyuktha_akshara(x)\n",
        "  b = split_samyuktha_akshara(y)\n",
        "\n",
        "  if ( a[-2] == 'न' and a[-1] == '्' and b[0] in {'त','थ','च','छ','ट','ठ'} ):\n",
        "    if ( b[0] in {'त','थ'}):\n",
        "      b.insert(0,'स्')\n",
        "      a.pop()\n",
        "      a[-1] = 'ँ'\n",
        "    elif ( b[0] in {'च','छ'}):\n",
        "      b.insert(0,'श्')\n",
        "      a.pop()\n",
        "      a[-1] = 'ँ'\n",
        "    elif ( b[0] in {'ट','ठ'}):\n",
        "      b.insert(0,'ष्')\n",
        "      a.pop()\n",
        "      a[-1] = 'ँ'\n",
        "\n",
        "\n",
        "  c = \"\"\n",
        "  c = c.join(a+b)\n",
        "  return c"
      ],
      "execution_count": null,
      "outputs": []
    },
    {
      "cell_type": "code",
      "metadata": {
        "colab": {
          "base_uri": "https://localhost:8080/"
        },
        "id": "3gOEFsCl4KpK",
        "outputId": "22a0a811-39aa-4ddb-9fac-6c3ecb9c8970"
      },
      "source": [
        "print(satva_sandhi('मान्','च'))"
      ],
      "execution_count": null,
      "outputs": [
        {
          "output_type": "stream",
          "text": [
            "माँश्च\n"
          ],
          "name": "stdout"
        }
      ]
    },
    {
      "cell_type": "code",
      "metadata": {
        "colab": {
          "base_uri": "https://localhost:8080/"
        },
        "id": "07MGrYBS4kPv",
        "outputId": "72cd8c0a-0158-4f01-b249-0e9289747ec7"
      },
      "source": [
        "print('म'+'ा'+'न'+'्')"
      ],
      "execution_count": null,
      "outputs": [
        {
          "output_type": "stream",
          "text": [
            "मान्\n"
          ],
          "name": "stdout"
        }
      ]
    },
    {
      "cell_type": "markdown",
      "metadata": {
        "id": "MXoBVJcu9MVT"
      },
      "source": [
        "# ***Visarga Sandhi***"
      ]
    },
    {
      "cell_type": "code",
      "metadata": {
        "id": "3GhlO9uL4xtU"
      },
      "source": [
        "def visarga_lopa_sandhi(x,y):\n",
        "  a = split_samyuktha_akshara(x)\n",
        "  b = split_samyuktha_akshara(y)\n",
        "\n",
        "  if(a[-2] not in chinnae.values()):\n",
        "    a.insert(-1,'')\n",
        "\n",
        "  if (a[-1] == 'ः' and a[-2] in {'','अ'} and b[0] in {'अ','इ','उ','ऋ','ऌ','आ','ई','ऊ','ॠ','ए','ऐ','ओ','औ'} ):\n",
        "    a[-1] = ' '\n",
        "  elif (a[-1] == 'ः' and a[-2] in {'ा','आ'} and (b[0] in {'अ','इ','उ','ऋ','ऌ','आ','ई','ऊ','ॠ','ए','ऐ','ओ','औ'} or b[0] in mrudu_vyanjana.values())):\n",
        "    a[-1] = ' '\n",
        "\n",
        "  c = \"\"\n",
        "  c = c.join(a+b)\n",
        "  return c\n"
      ],
      "execution_count": null,
      "outputs": []
    },
    {
      "cell_type": "code",
      "metadata": {
        "colab": {
          "base_uri": "https://localhost:8080/"
        },
        "id": "lviz3wlejgqi",
        "outputId": "a4728146-f14f-4d79-e3b5-5a0544fd0a77"
      },
      "source": [
        "print(visarga_lopa_sandhi('बालाः','हसन्ति'))"
      ],
      "execution_count": null,
      "outputs": [
        {
          "output_type": "stream",
          "text": [
            "बाला हसन्ति\n"
          ],
          "name": "stdout"
        }
      ]
    },
    {
      "cell_type": "code",
      "metadata": {
        "id": "Bxfw4GdMnhgx"
      },
      "source": [
        "def visarga_ukaaradesha_sandhi(x,y):\n",
        "  a = split_samyuktha_akshara(x)\n",
        "  b = split_samyuktha_akshara(y)\n",
        "  c = \"\"\n",
        "  if(a[-2] not in chinnae.values()):\n",
        "    a.insert(-1,'')\n",
        "\n",
        "\n",
        "  if (a[-1] == 'ः' and a[-2] in {'','अ'} and (b[0] in {'अ'} or b[0] in mrudu_vyanjana.values())):\n",
        "    a.pop()\n",
        "    if (len(a) != 1):\n",
        "      a[-1] = 'ो'\n",
        "    else:\n",
        "      a[-1] = 'ओ'\n",
        "\n",
        "    d = ''.join(a)\n",
        "    e = ''.join(b)\n",
        "\n",
        "    if (b[0] == 'अ'):\n",
        "      c = poorva_roopa_sandhi(d,e)\n",
        "\n",
        "    elif (b[0] in mrudu_vyanjana.values()):\n",
        "      c = (d+''+e)\n",
        "\n",
        " ############ this sandhi will not happen if visarga belongs to underived avyaya or sa.prathama vibakthi of rrukaarantha shabda########\n",
        " ######## future work #############\n",
        "\n",
        "\n",
        "  return c"
      ],
      "execution_count": null,
      "outputs": []
    },
    {
      "cell_type": "code",
      "metadata": {
        "colab": {
          "base_uri": "https://localhost:8080/"
        },
        "id": "SJsWaXqKoVoY",
        "outputId": "380de41a-0689-47f5-e9bc-8b3bc6995030"
      },
      "source": [
        "print(visarga_ukaaradesha_sandhi('सरः','ज'))"
      ],
      "execution_count": null,
      "outputs": [
        {
          "output_type": "stream",
          "text": [
            "सरोज\n"
          ],
          "name": "stdout"
        }
      ]
    },
    {
      "cell_type": "code",
      "metadata": {
        "id": "pBRrBzpgpb27"
      },
      "source": [
        "a = list('मन:')\n",
        "print( (':' in chinnae.values()))"
      ],
      "execution_count": null,
      "outputs": []
    },
    {
      "cell_type": "code",
      "metadata": {
        "id": "JnS2twstq3by"
      },
      "source": [
        "def visarga_rephaadesha_sandhi(x,y):\n",
        "  a = split_samyuktha_akshara(x)\n",
        "  b = split_samyuktha_akshara(y)\n",
        "\n",
        "  if(a[-2] not in chinnae.values()):\n",
        "    a.insert(-1,'')\n",
        "\n",
        "\n",
        "  if (a[-1] == 'ः' and a[-2] in {'ि', 'ी', 'ु', 'ू', 'ृ', 'ॄ', 'ॢ', 'े', 'ै', 'ो', 'ौ', 'इ', 'उ', 'ऋ', 'ऌ', 'ई', 'ऊ', 'ॠ', 'ए', 'ऐ', 'ओ', 'औ'} and (b[0] in svara.values() or b[0] in mrudu_vyanjana.values())):\n",
        "    a.pop()\n",
        "    b.insert(0,'र')\n",
        "\n",
        "  if (b[1] in chinnae.values()):\n",
        "    b[1] = chinnae[b[1]]\n",
        "  else:\n",
        "    b.insert(1,'्')\n",
        "\n",
        "\n",
        "\n",
        " ############ this sandhi will happen if visarga belongs to underived avyaya or sa.prathama vibakthi of rrukaarantha shabda########\n",
        " ######## future work #############\n",
        "  c = \"\"\n",
        "  c= c.join(a+b)\n",
        "  return c"
      ],
      "execution_count": null,
      "outputs": []
    },
    {
      "cell_type": "code",
      "metadata": {
        "colab": {
          "base_uri": "https://localhost:8080/"
        },
        "id": "XqgAEFzbuVa6",
        "outputId": "3b47fcb9-6c23-4e28-9636-6793a7ad2818"
      },
      "source": [
        "print(svara.values())"
      ],
      "execution_count": null,
      "outputs": [
        {
          "output_type": "stream",
          "text": [
            "dict_values(['अ', 'इ', 'उ', 'ऋ', 'ऌ', 'आ', 'ई', 'ऊ', 'ॠ', 'ए', 'ऐ', 'ओ', 'औ', 'ं', 'ः'])\n"
          ],
          "name": "stdout"
        }
      ]
    },
    {
      "cell_type": "code",
      "metadata": {
        "colab": {
          "base_uri": "https://localhost:8080/"
        },
        "id": "iLeDhO1yuXZc",
        "outputId": "84a4fd45-a151-4fa3-cf8b-2c78cbe0d0ff"
      },
      "source": [
        "print(visarga_rephaadesha_sandhi('एतैः','भक्षितम्'))"
      ],
      "execution_count": null,
      "outputs": [
        {
          "output_type": "stream",
          "text": [
            "एतैर्भक्षितम्\n"
          ],
          "name": "stdout"
        }
      ]
    },
    {
      "cell_type": "code",
      "metadata": {
        "id": "jY1WCPyAwhoI"
      },
      "source": [
        "def visarga_sakaaraadesha_sandhi(x,y):\n",
        "  a = split_samyuktha_akshara(x)\n",
        "  b = split_samyuktha_akshara(y)\n",
        "\n",
        "  if(a[-2] not in chinnae.values()):\n",
        "    a.insert(-1,'')\n",
        "\n",
        "\n",
        "  if (a[-1] == 'ः' and (b[0] in svara.values() or b[0] in {'च','छ','ट','ठ','त','थ','श','ष','स'})):\n",
        "\n",
        "    if ( b[0] in {'त','थ','स'}):\n",
        "      b.insert(0,'स्')\n",
        "      a.pop()\n",
        "\n",
        "    elif ( b[0] in {'च','छ','श'}):\n",
        "      b.insert(0,'श्')\n",
        "      a.pop()\n",
        "\n",
        "    elif ( b[0] in {'ट','ठ','ष'}):\n",
        "      b.insert(0,'ष्')\n",
        "      a.pop()\n",
        "\n",
        "\n",
        "  c = \"\"\n",
        "  c= c.join(a+b)\n",
        "  return c"
      ],
      "execution_count": null,
      "outputs": []
    },
    {
      "cell_type": "code",
      "metadata": {
        "colab": {
          "base_uri": "https://localhost:8080/"
        },
        "id": "cNpNTplb1Dga",
        "outputId": "f646b0dd-fc96-4bba-c8a5-f186f32aa96e"
      },
      "source": [
        "print(visarga_sakaaraadesha_sandhi('नृपः','षष्ठः'))"
      ],
      "execution_count": null,
      "outputs": [
        {
          "output_type": "stream",
          "text": [
            "नृपष्षष्ठः\n"
          ],
          "name": "stdout"
        }
      ]
    },
    {
      "cell_type": "code",
      "metadata": {
        "id": "MYSRSmGL1OgE"
      },
      "source": [
        "def visarga_jeehvaamuulaliiyaadaya_sandhi(x,y):\n",
        "  a = split_samyuktha_akshara(x)\n",
        "  b = split_samyuktha_akshara(y)\n",
        "\n",
        "  if(a[-2] not in chinnae.values()):\n",
        "    a.insert(-1,'')\n",
        "\n",
        "\n",
        "  if (a[-1] == 'ः' and (b[0] in svara.values() or b[0] in { 'क','ख','प','फ'})):\n",
        "\n",
        "    if ( b[0] in { 'क','ख','प','फ' }):\n",
        "      a[-1] = 'X'\n",
        " ############ some future work for some exceptions##################################\n",
        "\n",
        "  c = \"\"\n",
        "  c= c.join(a+b)\n",
        "  return c"
      ],
      "execution_count": null,
      "outputs": []
    },
    {
      "cell_type": "code",
      "metadata": {
        "colab": {
          "base_uri": "https://localhost:8080/"
        },
        "id": "vr_P8eo24awX",
        "outputId": "c41d61ce-2699-46ee-ccb0-cdda3076ec5c"
      },
      "source": [
        "print(visarga_jeehvaamuulaliiyaadaya_sandhi('नृपः','करोति'))"
      ],
      "execution_count": null,
      "outputs": [
        {
          "output_type": "stream",
          "text": [
            "नृपXकरोति\n"
          ],
          "name": "stdout"
        }
      ]
    },
    {
      "cell_type": "code",
      "metadata": {
        "id": "-rZih_1X4xKr"
      },
      "source": [],
      "execution_count": null,
      "outputs": []
    }
  ]
}